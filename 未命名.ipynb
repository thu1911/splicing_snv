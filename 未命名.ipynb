{
 "cells": [
  {
   "cell_type": "code",
   "execution_count": 71,
   "metadata": {},
   "outputs": [],
   "source": [
    "import os\n",
    "import sys\n",
    "from os import listdir\n",
    "from os.path import isfile, join\n",
    "import pandas as pd\n",
    "import functools "
   ]
  },
  {
   "cell_type": "code",
   "execution_count": 81,
   "metadata": {},
   "outputs": [],
   "source": [
    "arguments = [\"nonsense\",\"/data8t/mtx/sc_splicing/data/quantification_stats/cell_level_files\",\\\n",
    "             \"/data8t/mtx/sc_splicing/data/quantification_stats/gene_expression_matrix/gene_expression_matrix.csv\"]\n",
    "input_folder = arguments[1]\n",
    "output_filename = arguments[2]"
   ]
  },
  {
   "cell_type": "code",
   "execution_count": 12,
   "metadata": {},
   "outputs": [],
   "source": [
    "if(len(arguments) == 4):\n",
    "    method_case = arguments[3]\n",
    "else:\n",
    "    method_case = None"
   ]
  },
  {
   "cell_type": "code",
   "execution_count": 13,
   "metadata": {},
   "outputs": [],
   "source": [
    "def main():\n",
    "    # default setting is featurecounts\n",
    "    if method_case is None:\n",
    "        featurecounts_expression_matrix()\n",
    "    # other setting\n",
    "    else:\n",
    "       pass "
   ]
  },
  {
   "cell_type": "code",
   "execution_count": 75,
   "metadata": {},
   "outputs": [],
   "source": [
    "suffix=\".featurecounts\"\n",
    "onlyfiles = [f for f in listdir(input_folder) if isfile(join(input_folder, f)) if f.endswith(suffix)]\n",
    "all_cell_df_list = []\n",
    "for f in onlyfiles:\n",
    "    cell_level_file = join(input_folder, f)\n",
    "    tmp = pd.read_csv(cell_level_file,delimiter='\\t',skiprows=[0], header=0)\n",
    "    # rename last column\n",
    "    tmp_colname = tmp.columns[-1]\n",
    "    tmp_rename = tmp.rename({tmp_colname: f.split('.')[0]}, axis='columns')\n",
    "    # only contain geneid and read counts\n",
    "    current_cell_df =  tmp_rename.iloc[:,[0,-1]]\n",
    "    del tmp, tmp_rename\n",
    "    all_cell_df_list.append(current_cell_df)\n"
   ]
  },
  {
   "cell_type": "code",
   "execution_count": 76,
   "metadata": {},
   "outputs": [],
   "source": [
    "gene_expression_matrix = functools.reduce(lambda x, y: pd.merge(x, y, on = 'Geneid'), all_cell_df_list)"
   ]
  },
  {
   "cell_type": "code",
   "execution_count": 82,
   "metadata": {},
   "outputs": [],
   "source": [
    "gene_expression_matrix.to_csv(output_filename,index=False) "
   ]
  },
  {
   "cell_type": "code",
   "execution_count": null,
   "metadata": {},
   "outputs": [],
   "source": []
  }
 ],
 "metadata": {
  "kernelspec": {
   "display_name": "Python 3",
   "language": "python",
   "name": "python3"
  },
  "language_info": {
   "codemirror_mode": {
    "name": "ipython",
    "version": 3
   },
   "file_extension": ".py",
   "mimetype": "text/x-python",
   "name": "python",
   "nbconvert_exporter": "python",
   "pygments_lexer": "ipython3",
   "version": "3.7.3"
  }
 },
 "nbformat": 4,
 "nbformat_minor": 2
}
